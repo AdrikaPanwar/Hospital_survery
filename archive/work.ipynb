{
 "cells": [
  {
   "cell_type": "code",
   "execution_count": 45,
   "id": "07306dcc",
   "metadata": {},
   "outputs": [
    {
     "name": "stdout",
     "output_type": "stream",
     "text": [
      "Requirement already satisfied: pandas in /Library/Frameworks/Python.framework/Versions/3.13/lib/python3.13/site-packages (2.3.0)\n",
      "Requirement already satisfied: openpyxl in /Library/Frameworks/Python.framework/Versions/3.13/lib/python3.13/site-packages (3.1.5)\n",
      "Requirement already satisfied: numpy>=1.26.0 in /Library/Frameworks/Python.framework/Versions/3.13/lib/python3.13/site-packages (from pandas) (2.3.0)\n",
      "Requirement already satisfied: python-dateutil>=2.8.2 in /Users/macbookpro/Library/Python/3.13/lib/python/site-packages (from pandas) (2.9.0.post0)\n",
      "Requirement already satisfied: pytz>=2020.1 in /Library/Frameworks/Python.framework/Versions/3.13/lib/python3.13/site-packages (from pandas) (2025.2)\n",
      "Requirement already satisfied: tzdata>=2022.7 in /Library/Frameworks/Python.framework/Versions/3.13/lib/python3.13/site-packages (from pandas) (2025.2)\n",
      "Requirement already satisfied: et-xmlfile in /Library/Frameworks/Python.framework/Versions/3.13/lib/python3.13/site-packages (from openpyxl) (2.0.0)\n",
      "Requirement already satisfied: six>=1.5 in /Users/macbookpro/Library/Python/3.13/lib/python/site-packages (from python-dateutil>=2.8.2->pandas) (1.17.0)\n",
      "Requirement already satisfied: pandas in /Library/Frameworks/Python.framework/Versions/3.13/lib/python3.13/site-packages (2.3.0)\n",
      "Requirement already satisfied: numpy>=1.26.0 in /Library/Frameworks/Python.framework/Versions/3.13/lib/python3.13/site-packages (from pandas) (2.3.0)\n",
      "Requirement already satisfied: python-dateutil>=2.8.2 in /Users/macbookpro/Library/Python/3.13/lib/python/site-packages (from pandas) (2.9.0.post0)\n",
      "Requirement already satisfied: pytz>=2020.1 in /Library/Frameworks/Python.framework/Versions/3.13/lib/python3.13/site-packages (from pandas) (2025.2)\n",
      "Requirement already satisfied: tzdata>=2022.7 in /Library/Frameworks/Python.framework/Versions/3.13/lib/python3.13/site-packages (from pandas) (2025.2)\n",
      "Requirement already satisfied: six>=1.5 in /Users/macbookpro/Library/Python/3.13/lib/python/site-packages (from python-dateutil>=2.8.2->pandas) (1.17.0)\n",
      "Requirement already satisfied: pip in /Library/Frameworks/Python.framework/Versions/3.13/lib/python3.13/site-packages (25.1.1)\n",
      "Requirement already satisfied: numpy in /Library/Frameworks/Python.framework/Versions/3.13/lib/python3.13/site-packages (2.3.0)\n"
     ]
    }
   ],
   "source": [
    "# I install pandas because i am cleaning dataset first before moving to visualization portion\n",
    "# and I want to see the data_dictionary.xlsx file directly in the output so i install openpyxl\n",
    "# rest is csv file\n",
    "! pip3 install pandas openpyxl\n",
    "! pip3 install pandas\n",
    "! pip3 install --upgrade pip\n",
    "! pip3 install numpy"
   ]
  },
  {
   "cell_type": "code",
   "execution_count": 44,
   "id": "56988004",
   "metadata": {},
   "outputs": [
    {
     "name": "stdout",
     "output_type": "stream",
     "text": [
      "               Table                  Field  \\\n",
      "0            Reports    Release Period (PK)   \n",
      "1            Reports             Start Date   \n",
      "2            Reports               End Date   \n",
      "3             States             State (PK)   \n",
      "4             States             State Name   \n",
      "5             States                 Region   \n",
      "6           Measures        Measure ID (PK)   \n",
      "7           Measures                Measure   \n",
      "8           Measures                   Type   \n",
      "9          Questions           Question Num   \n",
      "10         Questions        Measure ID (FK)   \n",
      "11         Questions               Question   \n",
      "12         Questions      Bottom-box Answer   \n",
      "13         Questions      Middle-box Answer   \n",
      "14         Questions         Top-box Answer   \n",
      "15  National Results    Release Period (FK)   \n",
      "16  National Results        Measure ID (FK)   \n",
      "17  National Results  Bottom-box Percentage   \n",
      "18  National Results  Middle-box Percentage   \n",
      "19  National Results     Top-box Percentage   \n",
      "20     State Results    Release Period (FK)   \n",
      "21     State Results             State (FK)   \n",
      "22     State Results        Measure ID (FK)   \n",
      "23     State Results  Bottom-box Percentage   \n",
      "24     State Results  Middle-box Percentage   \n",
      "25     State Results     Top-box Percentage   \n",
      "26         Responses    Release Period (FK)   \n",
      "27         Responses             State (FK)   \n",
      "28         Responses            Facility ID   \n",
      "29         Responses      Completed Surveys   \n",
      "30         Responses      Response Rate (%)   \n",
      "\n",
      "                                          Description  \n",
      "0   Unique identifier for each HCAHPS report and t...  \n",
      "1   Survey results from patients discharged betwee...  \n",
      "2   Survey results from patients discharged betwee...  \n",
      "3   State abbreviation for the 50 US States (plus ...  \n",
      "4                                     Full state name  \n",
      "5   Groups of states as defined by the United Stat...  \n",
      "6   Unique identifier for each HCAHPS measure (mea...  \n",
      "7                             The measure description  \n",
      "8   \"Composite measures\" are made up of more than ...  \n",
      "9   Question number as it appears on the HCAHPS pa...  \n",
      "10               The measure each question relates to  \n",
      "11           The question as it appears on the survey  \n",
      "12  The answer(s) to the question considered least...  \n",
      "13  The answer(s) to the question considered inter...  \n",
      "14  The answer(s) to the question considered most ...  \n",
      "15              The HCAHPS report each row relates to  \n",
      "16                    The measure each row relates to  \n",
      "17  The percentage of respondents at a national le...  \n",
      "18  The percentage of respondents at a national le...  \n",
      "19  The percentage of respondents at a national le...  \n",
      "20              The HCAHPS report each row relates to  \n",
      "21                      The state each row relates to  \n",
      "22                    The measure each row relates to  \n",
      "23  The percentage of respondents at the state lev...  \n",
      "24  The percentage of respondents at the state lev...  \n",
      "25  The percentage of respondents at the state lev...  \n",
      "26              The HCAHPS report each row relates to  \n",
      "27                      The state each row relates to  \n",
      "28  Unique identifier for each hospital that parti...  \n",
      "29  Completed surveys from patients discharges fro...  \n",
      "30  Response rate from surveys submitted to patien...  \n"
     ]
    },
    {
     "data": {
      "text/plain": [
       "Index(['Table', 'Field', 'Description'], dtype='object')"
      ]
     },
     "execution_count": 44,
     "metadata": {},
     "output_type": "execute_result"
    }
   ],
   "source": [
    "# I am checking whole columns name line by line by moving to each csv file one by one\n",
    "import pandas as pd\n",
    "data_dict = pd.read_csv('data_dictionary.csv')\n",
    "data_dict.dropna(inplace=True)\n",
    "print(data_dict)\n",
    "\n",
    "''' I think I don't need to read data_dictionary.xlsx because they have same name just format \n",
    "change '''\n",
    "data_dict.duplicated().sum()\n",
    "data_dict.columns"
   ]
  },
  {
   "cell_type": "code",
   "execution_count": 35,
   "id": "089e2d1c",
   "metadata": {},
   "outputs": [
    {
     "name": "stdout",
     "output_type": "stream",
     "text": [
      "     Measure ID                                Measure               Type\n",
      "0      H_COMP_1              Communication with Nurses  Composite Measure\n",
      "1      H_COMP_2             Communication with Doctors  Composite Measure\n",
      "2      H_COMP_3       Responsiveness of Hospital Staff  Composite Measure\n",
      "3      H_COMP_5          Communication about Medicines  Composite Measure\n",
      "4      H_COMP_6                  Discharge Information  Composite Measure\n",
      "5      H_COMP_7                        Care Transition  Composite Measure\n",
      "6   H_CLEAN_HSP    Cleanliness of Hospital Environment    Individual Item\n",
      "7   H_QUIET_HSP      Quietness of Hospital Environment    Individual Item\n",
      "8  H_HSP_RATING                Overall Hospital Rating        Global Item\n",
      "9      H_RECMND  Willingness to Recommend the Hospital        Global Item\n"
     ]
    },
    {
     "data": {
      "text/plain": [
       "Index(['Measure ID', 'Measure', 'Type'], dtype='object')"
      ]
     },
     "execution_count": 35,
     "metadata": {},
     "output_type": "execute_result"
    }
   ],
   "source": [
    "measures = pd.read_csv('measures.csv')\n",
    "print(measures)\n",
    "# there is no need to remove any nan value here\n",
    "measures.duplicated().sum()\n",
    "measures.columns"
   ]
  },
  {
   "cell_type": "code",
   "execution_count": 36,
   "id": "6c35383f",
   "metadata": {},
   "outputs": [
    {
     "name": "stdout",
     "output_type": "stream",
     "text": [
      "   Release Period    Measure ID  Bottom-box Percentage  Middle-box Percentage  \\\n",
      "0         07_2015   H_CLEAN_HSP                      8                     18   \n",
      "1         07_2015      H_COMP_1                      4                     17   \n",
      "2         07_2015      H_COMP_2                      4                     14   \n",
      "3         07_2015      H_COMP_3                      9                     23   \n",
      "4         07_2015      H_COMP_5                     18                     17   \n",
      "..            ...           ...                    ...                    ...   \n",
      "85        07_2023      H_COMP_6                     14                      0   \n",
      "86        07_2023      H_COMP_7                      6                     43   \n",
      "87        07_2023  H_HSP_RATING                      9                     21   \n",
      "88        07_2023   H_QUIET_HSP                     10                     28   \n",
      "89        07_2023      H_RECMND                      6                     25   \n",
      "\n",
      "    Top-box Percentage  \n",
      "0                   74  \n",
      "1                   79  \n",
      "2                   82  \n",
      "3                   68  \n",
      "4                   65  \n",
      "..                 ...  \n",
      "85                  86  \n",
      "86                  51  \n",
      "87                  70  \n",
      "88                  62  \n",
      "89                  69  \n",
      "\n",
      "[90 rows x 5 columns]\n"
     ]
    },
    {
     "data": {
      "text/plain": [
       "Index(['Release Period', 'Measure ID', 'Bottom-box Percentage',\n",
       "       'Middle-box Percentage', 'Top-box Percentage'],\n",
       "      dtype='object')"
      ]
     },
     "execution_count": 36,
     "metadata": {},
     "output_type": "execute_result"
    }
   ],
   "source": [
    "national = pd.read_csv('national_results.csv')\n",
    "# file is too long so i am applying nan to remove nan value\n",
    "national.dropna(inplace=True)\n",
    "print(national)\n",
    "national.duplicated().sum()\n",
    "national.columns\n"
   ]
  },
  {
   "cell_type": "code",
   "execution_count": 37,
   "id": "582f4908",
   "metadata": {},
   "outputs": [
    {
     "name": "stdout",
     "output_type": "stream",
     "text": [
      "    Question Num    Measure ID  \\\n",
      "0              1      H_COMP_1   \n",
      "1              2      H_COMP_1   \n",
      "2              3      H_COMP_1   \n",
      "3              4      H_COMP_3   \n",
      "4              5      H_COMP_2   \n",
      "5              6      H_COMP_2   \n",
      "6              7      H_COMP_2   \n",
      "7              8   H_CLEAN_HSP   \n",
      "8              9   H_QUIET_HSP   \n",
      "9             11      H_COMP_3   \n",
      "10            13      H_COMP_5   \n",
      "11            14      H_COMP_5   \n",
      "14            18  H_HSP_RATING   \n",
      "15            19      H_RECMND   \n",
      "16            20      H_COMP_7   \n",
      "17            21      H_COMP_7   \n",
      "18            22      H_COMP_7   \n",
      "\n",
      "                                             Question  \\\n",
      "0   During this hospital stay, how often did nurse...   \n",
      "1   During this hospital stay, how often did nurse...   \n",
      "2   During this hospital stay, how often did nurse...   \n",
      "3   During this hospital stay, after you pressed t...   \n",
      "4   During this hospital stay, how often did docto...   \n",
      "5   During this hospital stay, how often did docto...   \n",
      "6   During this hospital stay, how often did docto...   \n",
      "7   During this hospital stay, how often were your...   \n",
      "8   During this hospital stay, how often was the a...   \n",
      "9   How often did you get help in getting to the b...   \n",
      "10  Before giving you any new medicine, how often ...   \n",
      "11  Before giving you any new medicine, how often ...   \n",
      "14  Using any number from 0 to 10, where 0 is the ...   \n",
      "15  Would you recommend this hospital to your frie...   \n",
      "16  During this hospital stay, staff took my prefe...   \n",
      "17  When I left the hospital, I had a good underst...   \n",
      "18  When I left the hospital, I clearly understood...   \n",
      "\n",
      "                Bottom-box Answer Middle-box Answer  Top-box Answer  \n",
      "0              Sometimes or never           Usually          Always  \n",
      "1              Sometimes or never           Usually          Always  \n",
      "2              Sometimes or never           Usually          Always  \n",
      "3              Sometimes or never           Usually          Always  \n",
      "4              Sometimes or never           Usually          Always  \n",
      "5              Sometimes or never           Usually          Always  \n",
      "6              Sometimes or never           Usually          Always  \n",
      "7              Sometimes or never           Usually          Always  \n",
      "8              Sometimes or never           Usually          Always  \n",
      "9              Sometimes or never           Usually          Always  \n",
      "10             Sometimes or never           Usually          Always  \n",
      "11             Sometimes or never           Usually          Always  \n",
      "14                         0 to 6            7 or 8         9 or 10  \n",
      "15   Probably no or definitely no      Probably yes  Definitely yes  \n",
      "16  Disagree or strongly disagree             Agree  Strongly Agree  \n",
      "17  Disagree or strongly disagree             Agree  Strongly Agree  \n",
      "18  Disagree or strongly disagree             Agree  Strongly Agree  \n"
     ]
    },
    {
     "data": {
      "text/plain": [
       "Index(['Question Num', 'Measure ID', 'Question', 'Bottom-box Answer',\n",
       "       'Middle-box Answer', 'Top-box Answer'],\n",
       "      dtype='object')"
      ]
     },
     "execution_count": 37,
     "metadata": {},
     "output_type": "execute_result"
    }
   ],
   "source": [
    "questions = pd.read_csv('questions.csv')\n",
    "questions.dropna(inplace=True)\n",
    "print(questions)\n",
    "questions.duplicated().sum()\n",
    "questions.columns"
   ]
  },
  {
   "cell_type": "code",
   "execution_count": 38,
   "id": "1ccf753b",
   "metadata": {},
   "outputs": [
    {
     "name": "stdout",
     "output_type": "stream",
     "text": [
      "  Release Period  Start Date    End Date\n",
      "0        07_2015  2013-10-01  2014-09-30\n",
      "1        07_2016  2014-10-01  2015-09-30\n",
      "2        07_2017  2015-10-01  2016-09-30\n",
      "3        07_2018  2016-10-01  2017-09-30\n",
      "4        07_2019  2017-10-01  2018-09-30\n",
      "5        07_2020  2018-10-01  2019-09-30\n",
      "6        07_2021  2019-10-01  2020-09-30\n",
      "7        07_2022  2020-10-01  2021-09-30\n",
      "8        07_2023  2021-10-01  2022-09-30\n"
     ]
    },
    {
     "data": {
      "text/plain": [
       "Index(['Release Period', 'Start Date', 'End Date'], dtype='object')"
      ]
     },
     "execution_count": 38,
     "metadata": {},
     "output_type": "execute_result"
    }
   ],
   "source": [
    "reports = pd.read_csv('reports.csv')\n",
    "reports.dropna(inplace=True)\n",
    "print(reports)\n",
    "reports.duplicated().sum()\n",
    "reports.columns"
   ]
  },
  {
   "cell_type": "code",
   "execution_count": 46,
   "id": "400a61ad",
   "metadata": {},
   "outputs": [
    {
     "name": "stdout",
     "output_type": "stream",
     "text": [
      "      Release Period State Facility ID    Completed Surveys Response Rate (%)\n",
      "0            07_2015    AL       10001          300 or more                27\n",
      "1            07_2015    AL       10005          300 or more                37\n",
      "2            07_2015    AL       10006          300 or more                25\n",
      "3            07_2015    AL       10007  Between 100 and 299                30\n",
      "4            07_2015    AL       10008       Fewer than 100                28\n",
      "...              ...   ...         ...                  ...               ...\n",
      "43207        07_2023    TX      670143                   42                28\n",
      "43208        07_2023    TX      670259                   34                34\n",
      "43209        07_2023    TX      670260                  454                14\n",
      "43214        07_2023    TX      670300                  186                15\n",
      "43215        07_2023    TX      670309                  164                12\n",
      "\n",
      "[37445 rows x 5 columns]\n"
     ]
    },
    {
     "data": {
      "text/plain": [
       "Index(['Release Period', 'State', 'Facility ID', 'Completed Surveys',\n",
       "       'Response Rate (%)'],\n",
       "      dtype='object')"
      ]
     },
     "execution_count": 46,
     "metadata": {},
     "output_type": "execute_result"
    }
   ],
   "source": [
    "import numpy as np\n",
    "# i am doing this because i saw not availabe values \n",
    "responses = pd.read_csv('responses.csv')\n",
    "responses.replace('Not Available', np.nan, inplace=True)\n",
    "responses.dropna(inplace=True)\n",
    "print(responses)\n",
    "responses.duplicated().sum()\n",
    "responses.columns"
   ]
  },
  {
   "cell_type": "code",
   "execution_count": 40,
   "id": "89cd3b66",
   "metadata": {},
   "outputs": [
    {
     "name": "stdout",
     "output_type": "stream",
     "text": [
      "     Release Period State    Measure ID  Bottom-box Percentage  \\\n",
      "0           07_2015    AK   H_CLEAN_HSP                      8   \n",
      "1           07_2015    AK      H_COMP_1                      9   \n",
      "2           07_2015    AK      H_COMP_2                     10   \n",
      "3           07_2015    AK      H_COMP_3                     11   \n",
      "4           07_2015    AK      H_COMP_5                     19   \n",
      "...             ...   ...           ...                    ...   \n",
      "4575        07_2023    WY      H_COMP_6                     14   \n",
      "4576        07_2023    WY      H_COMP_7                      5   \n",
      "4577        07_2023    WY  H_HSP_RATING                      7   \n",
      "4578        07_2023    WY   H_QUIET_HSP                      6   \n",
      "4579        07_2023    WY      H_RECMND                      4   \n",
      "\n",
      "      Middle-box Percentage  Top-box Percentage  \n",
      "0                        22                  70  \n",
      "1                        17                  74  \n",
      "2                        15                  75  \n",
      "3                        21                  68  \n",
      "4                        17                  64  \n",
      "...                     ...                 ...  \n",
      "4575                      0                  86  \n",
      "4576                     41                  54  \n",
      "4577                     22                  71  \n",
      "4578                     28                  66  \n",
      "4579                     26                  70  \n",
      "\n",
      "[4580 rows x 6 columns]\n"
     ]
    },
    {
     "data": {
      "text/plain": [
       "Index(['Release Period', 'State', 'Measure ID', 'Bottom-box Percentage',\n",
       "       'Middle-box Percentage', 'Top-box Percentage'],\n",
       "      dtype='object')"
      ]
     },
     "execution_count": 40,
     "metadata": {},
     "output_type": "execute_result"
    }
   ],
   "source": [
    "state = pd.read_csv('state_results.csv')\n",
    "state.dropna(inplace=True)\n",
    "print(state)\n",
    "state.duplicated().sum()\n",
    "state.columns"
   ]
  },
  {
   "cell_type": "code",
   "execution_count": 41,
   "id": "70c93fd8",
   "metadata": {},
   "outputs": [
    {
     "name": "stdout",
     "output_type": "stream",
     "text": [
      "   State                State Name              Region\n",
      "0     AK                    Alaska             Pacific\n",
      "1     AL                   Alabama  East South Central\n",
      "2     AR                  Arkansas  West South Central\n",
      "3     AZ                   Arizona            Mountain\n",
      "4     CA                California             Pacific\n",
      "5     CO                  Colorado            Mountain\n",
      "6     CT               Connecticut         New England\n",
      "7     DC      District of Columbia      South Atlantic\n",
      "8     DE                  Delaware      South Atlantic\n",
      "9     FL                   Florida      South Atlantic\n",
      "10    GA                   Georgia      South Atlantic\n",
      "11    HI                    Hawaii             Pacific\n",
      "12    IA                      Iowa  West North Central\n",
      "13    ID                     Idaho            Mountain\n",
      "14    IL                  Illinois  East North Central\n",
      "15    IN                   Indiana  East North Central\n",
      "16    KS                    Kansas  West North Central\n",
      "17    KY                  Kentucky  East South Central\n",
      "18    LA                 Louisiana  West South Central\n",
      "19    MA             Massachusetts         New England\n",
      "20    MD                  Maryland      South Atlantic\n",
      "21    ME                     Maine         New England\n",
      "22    MI                  Michigan  East North Central\n",
      "23    MN                 Minnesota  West North Central\n",
      "24    MO                  Missouri  West North Central\n",
      "25    MS               Mississippi  East South Central\n",
      "26    MT                   Montana            Mountain\n",
      "27    NC            North Carolina      South Atlantic\n",
      "28    ND              North Dakota  West North Central\n",
      "29    NE                  Nebraska  West North Central\n",
      "30    NH             New Hampshire         New England\n",
      "31    NJ                New Jersey        Mid-Atlantic\n",
      "32    NM                New Mexico            Mountain\n",
      "33    NV                    Nevada            Mountain\n",
      "34    NY                  New York        Mid-Atlantic\n",
      "35    OH                      Ohio  East North Central\n",
      "36    OK                  Oklahoma  West South Central\n",
      "37    OR                    Oregon             Pacific\n",
      "38    PA              Pennsylvania        Mid-Atlantic\n",
      "39    RI              Rhode Island         New England\n",
      "40    SC            South Carolina      South Atlantic\n",
      "41    SD              South Dakota  West North Central\n",
      "42    TN                 Tennessee  East South Central\n",
      "43    TX                     Texas  West South Central\n",
      "44    UT                      Utah            Mountain\n",
      "45    VA                  Virginia      South Atlantic\n",
      "46    VT                   Vermont         New England\n",
      "47    WA                Washington             Pacific\n",
      "48    WI                 Wisconsin  East North Central\n",
      "49    WV             West Virginia      South Atlantic\n",
      "50    WY                   Wyoming            Mountain\n",
      "51    AS            American Samoa             Pacific\n",
      "52    GU                      GUAM             Pacific\n",
      "53    MP  Northern Mariana Islands             Pacific\n",
      "54    PR               Puerto Rico      South Atlantic\n",
      "55    VI            Virgin Islands      South Atlantic\n"
     ]
    },
    {
     "data": {
      "text/plain": [
       "Index(['State', 'State Name', 'Region'], dtype='object')"
      ]
     },
     "execution_count": 41,
     "metadata": {},
     "output_type": "execute_result"
    }
   ],
   "source": [
    "states_cont = pd.read_csv('states.csv')\n",
    "states_cont.dropna(inplace=True)\n",
    "print(states_cont)\n",
    "states_cont.duplicated().sum()\n",
    "states_cont.columns"
   ]
  },
  {
   "cell_type": "code",
   "execution_count": null,
   "id": "e18569a0",
   "metadata": {},
   "outputs": [],
   "source": [
    "# data_dict = data names\n",
    "# measures = Measure ID\n",
    "# national = Measure ID\n",
    "# questions = Measure ID\n",
    "# reports = Realease Period\n",
    "# responses = Realease Period, state\n",
    "# state = Release Period, state, Measure ID\n",
    "# states_cont = state\n",
    "\n",
    "# there are the unique id which connect each dataset to one another now i can easily visualize them \n",
    "# sorry for inconvience because i am using tableau as i don't have power bi access \n",
    "# and i am now on mac but ik power bi well "
   ]
  },
  {
   "cell_type": "code",
   "execution_count": 54,
   "id": "5311ffdd",
   "metadata": {},
   "outputs": [],
   "source": [
    "# now converting all files into csv as a cleaned one\n",
    "data_dict.to_csv('data_dict.csv', index=False)\n",
    "measures.to_csv('measures.csv', index=False)\n",
    "national.to_csv('national.csv', index=False)\n",
    "questions.to_csv('questions.csv', index=False)\n",
    "reports.to_csv('reports.csv', index=False)\n",
    "responses.to_csv('responses.csv', index=False)\n",
    "state.to_csv('state.csv', index=False)\n",
    "states_cont.to_csv('states_cont.csv', index=False)\n"
   ]
  }
 ],
 "metadata": {
  "kernelspec": {
   "display_name": "Python 3",
   "language": "python",
   "name": "python3"
  },
  "language_info": {
   "codemirror_mode": {
    "name": "ipython",
    "version": 3
   },
   "file_extension": ".py",
   "mimetype": "text/x-python",
   "name": "python",
   "nbconvert_exporter": "python",
   "pygments_lexer": "ipython3",
   "version": "3.13.3"
  }
 },
 "nbformat": 4,
 "nbformat_minor": 5
}
